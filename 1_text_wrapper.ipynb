{
 "cells": [
  {
   "cell_type": "code",
   "execution_count": 9,
   "id": "d7f41125",
   "metadata": {
    "ExecuteTime": {
     "end_time": "2021-09-25T06:47:56.634311Z",
     "start_time": "2021-09-25T06:47:56.621837Z"
    }
   },
   "outputs": [
    {
     "name": "stdout",
     "output_type": "stream",
     "text": [
      "cравнить\n",
      "экспериментально\n",
      "тест уэлча, мана\n",
      "Уитни\n"
     ]
    }
   ],
   "source": [
    "def word_wrapper(string, width):\n",
    "    new_string=\"\"\n",
    "    while len(string)>width:\n",
    "        #find the position of nearest whitespace char to left of \"width\"\n",
    "        index=width-1\n",
    "        #check the char in the index of string of given width\n",
    "        #if it is space then continue\n",
    "        #else reduce the index to check for the space.\n",
    "        while not string[index].isspace():\n",
    "            index=index-1\n",
    "        #remove the line from original string and add it to the new string\n",
    "        line=string[0:index] + \"\\n\"#separated individual linelines\n",
    "        new_string=new_string+line#add those line to new_string variable\n",
    "        string=''+string[index+1:]#updating the string to the remaining words\n",
    "    #finally string will be left with less than the width.\n",
    "    #adding those to the output\n",
    "    return new_string+string\n",
    "\n",
    "word_to_be_wrapped = \"cравнить экспериментально тест уэлча, мана Уитни\"\n",
    "print(word_wrapper(word_to_be_wrapped,20))"
   ]
  },
  {
   "cell_type": "code",
   "execution_count": null,
   "id": "cbc9fb96",
   "metadata": {},
   "outputs": [],
   "source": []
  }
 ],
 "metadata": {
  "hide_input": false,
  "kernelspec": {
   "display_name": "Python 3",
   "language": "python",
   "name": "python3"
  },
  "language_info": {
   "codemirror_mode": {
    "name": "ipython",
    "version": 3
   },
   "file_extension": ".py",
   "mimetype": "text/x-python",
   "name": "python",
   "nbconvert_exporter": "python",
   "pygments_lexer": "ipython3",
   "version": "3.9.5"
  },
  "latex_envs": {
   "LaTeX_envs_menu_present": true,
   "autoclose": true,
   "autocomplete": true,
   "bibliofile": "biblio.bib",
   "cite_by": "apalike",
   "current_citInitial": 1,
   "eqLabelWithNumbers": true,
   "eqNumInitial": 1,
   "hotkeys": {
    "equation": "Ctrl-E",
    "itemize": "Ctrl-I"
   },
   "labels_anchors": false,
   "latex_user_defs": false,
   "report_style_numbering": false,
   "user_envs_cfg": false
  },
  "toc": {
   "base_numbering": 1,
   "nav_menu": {},
   "number_sections": true,
   "sideBar": true,
   "skip_h1_title": false,
   "title_cell": "Table of Contents",
   "title_sidebar": "Contents",
   "toc_cell": false,
   "toc_position": {},
   "toc_section_display": true,
   "toc_window_display": false
  },
  "varInspector": {
   "cols": {
    "lenName": 16,
    "lenType": 16,
    "lenVar": 40
   },
   "kernels_config": {
    "python": {
     "delete_cmd_postfix": "",
     "delete_cmd_prefix": "del ",
     "library": "var_list.py",
     "varRefreshCmd": "print(var_dic_list())"
    },
    "r": {
     "delete_cmd_postfix": ") ",
     "delete_cmd_prefix": "rm(",
     "library": "var_list.r",
     "varRefreshCmd": "cat(var_dic_list()) "
    }
   },
   "types_to_exclude": [
    "module",
    "function",
    "builtin_function_or_method",
    "instance",
    "_Feature"
   ],
   "window_display": false
  }
 },
 "nbformat": 4,
 "nbformat_minor": 5
}
